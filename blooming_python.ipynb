{
 "cells": [
  {
   "cell_type": "code",
   "execution_count": 14,
   "metadata": {
    "id": "0dSqwaOGJR1L"
   },
   "outputs": [],
   "source": [
    "import pandas as pd\n",
    "import numpy as np\n",
    "import pickle #피클로 저장할 때 불러오는 모듈\n",
    "from konlpy.tag import * #형태소 분석기(kkma, okt 등) 사용\n",
    "from sklearn.linear_model import LogisticRegression #학습모델\n",
    "from sklearn.pipeline import Pipeline #학습모델과 tfidf를 한곳에 넣는 파이프라인 즉 두개의 모델을 하나로사용\n",
    "from sklearn.model_selection import GridSearchCV #하이퍼파라미터튜닝\n",
    "from sklearn.feature_extraction.text import TfidfVectorizer #형태소로 분류된 단어에 가중치 추가"
   ]
  },
  {
   "cell_type": "code",
   "execution_count": 15,
   "metadata": {
    "id": "S3ZWmRSyJR2J"
   },
   "outputs": [],
   "source": [
    "\n",
    "    # 수집한 데이터를 읽어온다.\n",
    "df = pd.read_csv('./data/블루밍데이터셋.csv',encoding='CP949')\n",
    "\n",
    "    # 전처리를 수행한다.\n",
    "X_p = df['term']\n",
    "y_p = df['label']\n",
    "\n",
    "    # 학습데이터와 테스트 데이터로 나눈다.\n",
    "#X_p = df['term'].tolist()\n",
    "#y_p = df['label'].tolist()\n",
    "\n",
    "from sklearn.model_selection import train_test_split\n",
    "\n",
    "    # 70%는 학습, 30%는 test\n",
    "X_train_p, X_test_p, y_train_p, y_test_p = train_test_split(X_p, y_p, test_size=0.3, random_state=0)\n"
   ]
  },
  {
   "cell_type": "code",
   "execution_count": 16,
   "metadata": {
    "id": "y3-hJbUQJR2N"
   },
   "outputs": [],
   "source": [
    "# 형태소 분석을 위한 함수\n",
    "def tokenizer(text) :\n",
    "    okt = Okt()\n",
    "    return okt.pos(text,norm=True,stem=True)"
   ]
  },
  {
   "cell_type": "code",
   "execution_count": 17,
   "metadata": {
    "colab": {
     "base_uri": "https://localhost:8080/"
    },
    "id": "OtPfQ4xGJR2O",
    "outputId": "227dfa99-28ad-4774-ac79-43a3bd2b32b4"
   },
   "outputs": [
    {
     "name": "stderr",
     "output_type": "stream",
     "text": [
      "C:\\dev\\anaconda3\\lib\\site-packages\\sklearn\\linear_model\\_logistic.py:762: ConvergenceWarning: lbfgs failed to converge (status=1):\n",
      "STOP: TOTAL NO. of ITERATIONS REACHED LIMIT.\n",
      "\n",
      "Increase the number of iterations (max_iter) or scale the data as shown in:\n",
      "    https://scikit-learn.org/stable/modules/preprocessing.html\n",
      "Please also refer to the documentation for alternative solver options:\n",
      "    https://scikit-learn.org/stable/modules/linear_model.html#logistic-regression\n",
      "  n_iter_i = _check_optimize_result(\n"
     ]
    }
   ],
   "source": [
    "# 주어진 데이터를 단어 사전으로 만들고 각 단어의 빈도수를 계산한 후 벡터화 하는 객체 생성\n",
    "tfidf = TfidfVectorizer(lowercase=False, tokenizer=tokenizer,analyzer='char',ngram_range = (1, 2),sublinear_tf = True)\n",
    "\n",
    "# 문장별 나오는 단어수 세서 수치화, 벡터화해서 학습을 시킨다.\n",
    "logistic = LogisticRegression(C=10.0, penalty='l2', random_state=0)\n",
    "\n",
    "# tfidf와 logistic을 하나의 파이프에 저장\n",
    "pipe_p = Pipeline([('vect', tfidf), ('clf', logistic)])\n",
    "\n",
    "# 학습한다.\n",
    "pipe_p.fit(X_train_p, y_train_p)\n",
    "\n",
    "# 학습 정확도 측정\n",
    "y_pred = pipe_p.predict(X_test_p)\n",
    "\n"
   ]
  },
  {
   "cell_type": "code",
   "execution_count": 18,
   "metadata": {
    "id": "0C1NmFNX1Psa"
   },
   "outputs": [],
   "source": [
    "#하이퍼파라미터 튜닝\n",
    "grid_params_p = {\n",
    "    'vect__min_df' : [3,5,10],\n",
    "    'vect__max_df' : [20000,22000,24000],\n",
    "    'vect__ngram_range' : [(1,2),(1,3),(1,4)],\n",
    "    'clf__C' : [0.001,0.01,0.1,1,10,100]\n",
    "}"
   ]
  },
  {
   "cell_type": "code",
   "execution_count": 19,
   "metadata": {
    "id": "cKSsM-Bp1Rhe"
   },
   "outputs": [],
   "source": [
    "grid_pipe_p = GridSearchCV(pipe_p,grid_params_p,cv=5,n_jobs=-1) #cv=5는 5번 교차검증 하겠다"
   ]
  },
  {
   "cell_type": "code",
   "execution_count": 20,
   "metadata": {
    "colab": {
     "base_uri": "https://localhost:8080/"
    },
    "id": "cZOk8Idr1RkU",
    "outputId": "10e0975c-8b74-47c6-da53-70ed17dfecbf"
   },
   "outputs": [
    {
     "data": {
      "text/plain": [
       "GridSearchCV(cv=5,\n",
       "             estimator=Pipeline(steps=[('vect',\n",
       "                                        TfidfVectorizer(analyzer='char',\n",
       "                                                        lowercase=False,\n",
       "                                                        ngram_range=(1, 2),\n",
       "                                                        sublinear_tf=True,\n",
       "                                                        tokenizer=<function tokenizer at 0x0000022CDAC8ED30>)),\n",
       "                                       ('clf',\n",
       "                                        LogisticRegression(C=10.0,\n",
       "                                                           random_state=0))]),\n",
       "             n_jobs=-1,\n",
       "             param_grid={'clf__C': [0.001, 0.01, 0.1, 1, 10, 100],\n",
       "                         'vect__max_df': [20000, 22000, 24000],\n",
       "                         'vect__min_df': [3, 5, 10],\n",
       "                         'vect__ngram_range': [(1, 2), (1, 3), (1, 4)]})"
      ]
     },
     "execution_count": 20,
     "metadata": {},
     "output_type": "execute_result"
    }
   ],
   "source": [
    "grid_pipe_p.fit(X_train_p,y_train_p) #그리드 학습"
   ]
  },
  {
   "cell_type": "code",
   "execution_count": 21,
   "metadata": {
    "colab": {
     "base_uri": "https://localhost:8080/"
    },
    "id": "hgLR76kx1Yah",
    "outputId": "35338751-16c8-4be9-8937-06b1bbc3f82c",
    "scrolled": true
   },
   "outputs": [
    {
     "data": {
      "text/plain": [
       "{'clf__C': 10,\n",
       " 'vect__max_df': 20000,\n",
       " 'vect__min_df': 3,\n",
       " 'vect__ngram_range': (1, 4)}"
      ]
     },
     "execution_count": 21,
     "metadata": {},
     "output_type": "execute_result"
    }
   ],
   "source": [
    "grid_pipe_p.best_params_ #최고의 파라미터값 추출"
   ]
  },
  {
   "cell_type": "code",
   "execution_count": 22,
   "metadata": {
    "colab": {
     "base_uri": "https://localhost:8080/"
    },
    "id": "hU_uIEnF1b85",
    "outputId": "bfdcf625-02e2-4912-d43a-c4be914bbdca"
   },
   "outputs": [
    {
     "data": {
      "text/plain": [
       "0.9309964726631393"
      ]
     },
     "execution_count": 22,
     "metadata": {},
     "output_type": "execute_result"
    }
   ],
   "source": [
    "best_model_pipe_p = grid_pipe_p.best_estimator_ #최고의 파라미터로 적용시킨후 정확도 추출\n",
    "best_model_pipe_p.score(X_test_p,y_test_p)"
   ]
  },
  {
   "cell_type": "code",
   "execution_count": 23,
   "metadata": {
    "id": "Uwi_zSLzeOaO"
   },
   "outputs": [],
   "source": [
    "ff = ['나는 불행하다']"
   ]
  },
  {
   "cell_type": "code",
   "execution_count": 24,
   "metadata": {
    "id": "qud5aQgfhR0-",
    "scrolled": true
   },
   "outputs": [
    {
     "data": {
      "text/plain": [
       "-1"
      ]
     },
     "execution_count": 24,
     "metadata": {},
     "output_type": "execute_result"
    }
   ],
   "source": [
    "best_model_pipe_p.predict(ff)[0] #테스트 해보기"
   ]
  },
  {
   "cell_type": "code",
   "execution_count": 25,
   "metadata": {},
   "outputs": [
    {
     "name": "stdout",
     "output_type": "stream",
     "text": [
      " * Serving Flask app \"__main__\" (lazy loading)\n",
      " * Environment: production\n",
      "   WARNING: This is a development server. Do not use it in a production deployment.\n",
      "   Use a production WSGI server instead.\n",
      " * Debug mode: off\n"
     ]
    },
    {
     "name": "stderr",
     "output_type": "stream",
     "text": [
      " * Running on http://172.20.10.3:5000/ (Press CTRL+C to quit)\n",
      "172.20.10.4 - - [26/Nov/2020 10:47:40] \"\u001b[32mPOST /DiaryPost1 HTTP/1.1\u001b[0m\" 307 -\n"
     ]
    },
    {
     "name": "stdout",
     "output_type": "stream",
     "text": [
      "1\n",
      "최종발표 잘할 것 같다.\n",
      "최종발표\n",
      "2020-11-29\n"
     ]
    },
    {
     "name": "stderr",
     "output_type": "stream",
     "text": [
      "172.20.10.4 - - [26/Nov/2020 11:37:26] \"\u001b[32mPOST /DiaryPost1 HTTP/1.1\u001b[0m\" 307 -\n"
     ]
    },
    {
     "name": "stdout",
     "output_type": "stream",
     "text": [
      "-1\n",
      "\n",
      "기분이좋다\n",
      "2020-11-26\n"
     ]
    },
    {
     "name": "stderr",
     "output_type": "stream",
     "text": [
      "172.20.10.4 - - [26/Nov/2020 11:37:42] \"\u001b[32mPOST /DiaryPost1 HTTP/1.1\u001b[0m\" 307 -\n"
     ]
    },
    {
     "name": "stdout",
     "output_type": "stream",
     "text": [
      "1\n",
      "기분이 조다\r\n",
      "\n",
      "기분이좋다\n",
      "2020-11-26\n"
     ]
    },
    {
     "name": "stderr",
     "output_type": "stream",
     "text": [
      "172.20.10.4 - - [26/Nov/2020 11:38:02] \"\u001b[32mPOST /DiaryPost1 HTTP/1.1\u001b[0m\" 307 -\n"
     ]
    },
    {
     "name": "stdout",
     "output_type": "stream",
     "text": [
      "-1\n",
      "굿\n",
      "굿\n",
      "2020-11-26\n"
     ]
    },
    {
     "name": "stderr",
     "output_type": "stream",
     "text": [
      "172.20.10.4 - - [26/Nov/2020 11:38:27] \"\u001b[32mPOST /DiaryPost1 HTTP/1.1\u001b[0m\" 307 -\n"
     ]
    },
    {
     "name": "stdout",
     "output_type": "stream",
     "text": [
      "1\n",
      "즐겁다\n",
      "즐겁다\n",
      "2020-11-26\n"
     ]
    },
    {
     "name": "stderr",
     "output_type": "stream",
     "text": [
      "172.20.10.4 - - [26/Nov/2020 11:38:52] \"\u001b[32mPOST /DiaryPost1 HTTP/1.1\u001b[0m\" 307 -\n"
     ]
    },
    {
     "name": "stdout",
     "output_type": "stream",
     "text": [
      "1\n",
      "오늘도 행복하다\n",
      "오늘도 행복하다\n",
      "2020-11-26\n"
     ]
    },
    {
     "name": "stderr",
     "output_type": "stream",
     "text": [
      "172.20.10.4 - - [26/Nov/2020 11:48:43] \"\u001b[32mPOST /DiaryPost1 HTTP/1.1\u001b[0m\" 307 -\n"
     ]
    },
    {
     "name": "stdout",
     "output_type": "stream",
     "text": [
      "-1\n",
      "눈을 뜨니까 8시30분이였다 나는 알람을 3개 맞춰났는데 알람이 안울렸길레 새벽5시쯤데는줄 알았다\r\n",
      "그래서 그냥 다시잘려고 시간을 확인해보니까 삿됬다\r\n",
      "이미 카톡은 많이 와있었고 나는 아 나 지금 인남 하고 바로 씻으러 들어갔다.\r\n",
      "10분만에 사라락 씻고나서 나오니까 또 카톡이 와있었다.\r\n",
      "그래서 대충입고 나와서 택시를 잡아가지고 불이나게 달려왔다.\r\n",
      "택시기사 아저씨가 전화 안해봐도 되냐고 했는데 그냥 안했다\r\n",
      "근데 2통이나 또 왔다\r\n",
      "나는 음악을 들으면서 마음을 진정시키고 싶었는데... 2통이나 왔다.... \r\n",
      "집에 가는 길에는 네비를 저승길로 찍어야겠다\n",
      "스펙타클했던 오늘 아침\n",
      "2020-11-26\n"
     ]
    },
    {
     "name": "stderr",
     "output_type": "stream",
     "text": [
      "172.20.10.4 - - [26/Nov/2020 12:12:54] \"\u001b[32mPOST /DiaryPost1 HTTP/1.1\u001b[0m\" 307 -\n"
     ]
    },
    {
     "name": "stdout",
     "output_type": "stream",
     "text": [
      "1\n",
      "전날부터 두근두근거려서 잠을 설쳤습니다. 개피곤합니다. 발표장에 와보니 다른 팀 발표를 보고 포기하게 되었습니다. 오히려 마음이 편해진거 같기도 합니다.\n",
      "프로젝트 발표날\n",
      "2020-11-26\n"
     ]
    },
    {
     "name": "stderr",
     "output_type": "stream",
     "text": [
      "172.20.10.4 - - [26/Nov/2020 12:13:44] \"\u001b[32mPOST /DiaryPost1 HTTP/1.1\u001b[0m\" 307 -\n"
     ]
    },
    {
     "name": "stdout",
     "output_type": "stream",
     "text": [
      "-1\n",
      "발표 끝나고 술먹고 20시간 잘 생각에 벌써 행복함\n",
      "오늘 하루 예상\n",
      "2020-11-26\n"
     ]
    },
    {
     "name": "stderr",
     "output_type": "stream",
     "text": [
      "172.20.10.4 - - [26/Nov/2020 12:30:52] \"\u001b[32mPOST /DiaryPost1 HTTP/1.1\u001b[0m\" 307 -\n"
     ]
    },
    {
     "name": "stdout",
     "output_type": "stream",
     "text": [
      "-1\n",
      "너무 슬퍼요 흑흑 근데 정상훈이 싫습니다.\n",
      "여자친구와 헤어졌습니다.\n",
      "2020-11-26\n"
     ]
    },
    {
     "name": "stderr",
     "output_type": "stream",
     "text": [
      "172.20.10.4 - - [26/Nov/2020 12:31:23] \"\u001b[32mPOST /DiaryPost1 HTTP/1.1\u001b[0m\" 307 -\n"
     ]
    },
    {
     "name": "stdout",
     "output_type": "stream",
     "text": [
      "-1\n",
      "6시에 끝나는건 너무 늦게 끝납니다. 좀 더 일찍 끝내주세요 ㅠㅠ\n",
      "스마트 미디어 인재 개발원\n",
      "2020-06-08\n"
     ]
    },
    {
     "name": "stderr",
     "output_type": "stream",
     "text": [
      "172.20.10.4 - - [26/Nov/2020 12:31:43] \"\u001b[32mPOST /DiaryPost1 HTTP/1.1\u001b[0m\" 307 -\n"
     ]
    },
    {
     "name": "stdout",
     "output_type": "stream",
     "text": [
      "1\n",
      "나는 즐겁고 재밌고 행복하다.\n",
      "즐겁다\n",
      "2020-02-18\n"
     ]
    },
    {
     "name": "stderr",
     "output_type": "stream",
     "text": [
      "172.20.10.4 - - [26/Nov/2020 12:32:33] \"\u001b[32mPOST /DiaryPost1 HTTP/1.1\u001b[0m\" 307 -\n"
     ]
    },
    {
     "name": "stdout",
     "output_type": "stream",
     "text": [
      "1\n",
      "호조는 너무 멋집니다.\n",
      "미래에서 왔습니다.\n",
      "2021-10-02\n"
     ]
    },
    {
     "name": "stderr",
     "output_type": "stream",
     "text": [
      "172.20.10.4 - - [26/Nov/2020 12:33:06] \"\u001b[32mPOST /DiaryPost1 HTTP/1.1\u001b[0m\" 307 -\n"
     ]
    },
    {
     "name": "stdout",
     "output_type": "stream",
     "text": [
      "1\n",
      "상훈이는 입사를 못했지만 행복합니다.\n",
      "상훈이 입사\n",
      "2022-02-04\n"
     ]
    },
    {
     "name": "stderr",
     "output_type": "stream",
     "text": [
      "172.20.10.4 - - [26/Nov/2020 12:42:28] \"\u001b[32mPOST /DiaryPost1 HTTP/1.1\u001b[0m\" 307 -\n"
     ]
    },
    {
     "name": "stdout",
     "output_type": "stream",
     "text": [
      "-1\n",
      "상훈이가 질병에 걸렸다.\n",
      "약을 먹었다.\n",
      "2020-11-27\n"
     ]
    },
    {
     "name": "stderr",
     "output_type": "stream",
     "text": [
      "172.20.10.4 - - [26/Nov/2020 12:54:58] \"\u001b[32mPOST /DiaryPost1 HTTP/1.1\u001b[0m\" 307 -\n"
     ]
    },
    {
     "name": "stdout",
     "output_type": "stream",
     "text": [
      "-1\n",
      "ㅜ\n",
      "슬픔\n",
      "2020-11-14\n"
     ]
    },
    {
     "name": "stderr",
     "output_type": "stream",
     "text": [
      "172.20.10.4 - - [26/Nov/2020 12:55:37] \"\u001b[32mPOST /DiaryPost1 HTTP/1.1\u001b[0m\" 307 -\n"
     ]
    },
    {
     "name": "stdout",
     "output_type": "stream",
     "text": [
      "-1\n",
      "살려주세요\n",
      "ㄴㅁㅇㄹ\n",
      "2020-11-20\n"
     ]
    },
    {
     "name": "stderr",
     "output_type": "stream",
     "text": [
      "172.20.10.4 - - [26/Nov/2020 12:56:47] \"\u001b[32mPOST /DiaryPost1 HTTP/1.1\u001b[0m\" 307 -\n"
     ]
    },
    {
     "name": "stdout",
     "output_type": "stream",
     "text": [
      "1\n",
      "취업에 실패했습니다. 자살 마려워요.\n",
      "미래의 나에게\n",
      "2023-10-11\n"
     ]
    },
    {
     "name": "stderr",
     "output_type": "stream",
     "text": [
      "172.20.10.4 - - [26/Nov/2020 12:58:39] \"\u001b[32mPOST /DiaryPost1 HTTP/1.1\u001b[0m\" 307 -\n"
     ]
    },
    {
     "name": "stdout",
     "output_type": "stream",
     "text": [
      "-1\n",
      "자살생각\n",
      "ㅊㅌㅊ\n",
      "2020-11-26\n"
     ]
    },
    {
     "name": "stderr",
     "output_type": "stream",
     "text": [
      "172.20.10.4 - - [26/Nov/2020 12:58:55] \"\u001b[32mPOST /DiaryPost1 HTTP/1.1\u001b[0m\" 307 -\n"
     ]
    },
    {
     "name": "stdout",
     "output_type": "stream",
     "text": [
      "-1\n",
      "자살\n",
      "ㄴㅁㅇ\n",
      "2020-11-26\n"
     ]
    },
    {
     "name": "stderr",
     "output_type": "stream",
     "text": [
      "172.20.10.4 - - [26/Nov/2020 13:18:35] \"\u001b[32mPOST /DiaryPost1 HTTP/1.1\u001b[0m\" 307 -\n"
     ]
    },
    {
     "name": "stdout",
     "output_type": "stream",
     "text": [
      "1\n",
      "오늘은 빅데이터 수업 마지막 날이다.\r\n",
      "너무너무너무 좋다.\n",
      "마지막 날\n",
      "2021-11-26\n"
     ]
    },
    {
     "name": "stderr",
     "output_type": "stream",
     "text": [
      "172.20.10.4 - - [26/Nov/2020 13:21:25] \"\u001b[32mPOST /DiaryPost1 HTTP/1.1\u001b[0m\" 307 -\n"
     ]
    },
    {
     "name": "stdout",
     "output_type": "stream",
     "text": [
      "-1\n",
      "아 신난다 아 재미난다 더 게임 오브 데스\n",
      "신난다\n",
      "2020-11-26\n"
     ]
    },
    {
     "name": "stderr",
     "output_type": "stream",
     "text": [
      "172.20.10.4 - - [26/Nov/2020 13:22:02] \"\u001b[32mPOST /DiaryPost1 HTTP/1.1\u001b[0m\" 307 -\n"
     ]
    },
    {
     "name": "stdout",
     "output_type": "stream",
     "text": [
      "1\n",
      "오늘 밥이 너무 맛있었다.\r\n",
      "너무 행복하다\n",
      "재밌다\n",
      "2020-11-27\n"
     ]
    },
    {
     "name": "stderr",
     "output_type": "stream",
     "text": [
      "172.20.10.4 - - [26/Nov/2020 13:22:28] \"\u001b[32mPOST /DiaryPost1 HTTP/1.1\u001b[0m\" 307 -\n"
     ]
    },
    {
     "name": "stdout",
     "output_type": "stream",
     "text": [
      "1\n",
      "행복하다\n",
      "행복한 목요일\n",
      "2020-11-27\n"
     ]
    },
    {
     "name": "stderr",
     "output_type": "stream",
     "text": [
      "172.20.10.4 - - [26/Nov/2020 13:23:00] \"\u001b[32mPOST /DiaryPost1 HTTP/1.1\u001b[0m\" 307 -\n"
     ]
    },
    {
     "name": "stdout",
     "output_type": "stream",
     "text": [
      "1\n",
      "나는 너무 행복한 사람이다.\n",
      "신나는 금요일\n",
      "2020-11-30\n"
     ]
    },
    {
     "name": "stderr",
     "output_type": "stream",
     "text": [
      "172.20.10.4 - - [26/Nov/2020 13:23:30] \"\u001b[32mPOST /DiaryPost1 HTTP/1.1\u001b[0m\" 307 -\n"
     ]
    },
    {
     "name": "stdout",
     "output_type": "stream",
     "text": [
      "1\n",
      "나는 오늘 쾌변을 했다.\r\n",
      "너무 시원하고 기분이 좋았다\n",
      "오늘\n",
      "2020-11-30\n"
     ]
    },
    {
     "name": "stderr",
     "output_type": "stream",
     "text": [
      "172.20.10.4 - - [26/Nov/2020 13:23:54] \"\u001b[32mPOST /DiaryPost1 HTTP/1.1\u001b[0m\" 307 -\n"
     ]
    },
    {
     "name": "stdout",
     "output_type": "stream",
     "text": [
      "-1\n",
      "쾌변\n",
      "오늘\n",
      "2020-11-29\n"
     ]
    },
    {
     "name": "stderr",
     "output_type": "stream",
     "text": [
      "172.20.10.4 - - [26/Nov/2020 13:25:21] \"\u001b[32mPOST /DiaryPost1 HTTP/1.1\u001b[0m\" 307 -\n"
     ]
    },
    {
     "name": "stdout",
     "output_type": "stream",
     "text": [
      "1\n",
      "엄마한테 혼났다.\r\n",
      "기분이좋았다.\n",
      "오늘\n",
      "2020-12-01\n"
     ]
    },
    {
     "name": "stderr",
     "output_type": "stream",
     "text": [
      "172.20.10.4 - - [26/Nov/2020 13:25:52] \"\u001b[32mPOST /DiaryPost1 HTTP/1.1\u001b[0m\" 307 -\n"
     ]
    },
    {
     "name": "stdout",
     "output_type": "stream",
     "text": [
      "1\n",
      "좋다\n",
      "기분이\n",
      "2020-12-02\n"
     ]
    },
    {
     "name": "stderr",
     "output_type": "stream",
     "text": [
      "172.20.10.4 - - [26/Nov/2020 13:26:10] \"\u001b[32mPOST /DiaryPost1 HTTP/1.1\u001b[0m\" 307 -\n"
     ]
    },
    {
     "name": "stdout",
     "output_type": "stream",
     "text": [
      "1\n",
      "사랑해\n",
      "사랑\n",
      "2020-12-27\n"
     ]
    },
    {
     "name": "stderr",
     "output_type": "stream",
     "text": [
      "172.20.10.4 - - [26/Nov/2020 13:26:45] \"\u001b[32mPOST /DiaryPost1 HTTP/1.1\u001b[0m\" 307 -\n"
     ]
    },
    {
     "name": "stdout",
     "output_type": "stream",
     "text": [
      "1\n",
      "감사하다.\n",
      "나는\n",
      "2020-12-27\n"
     ]
    },
    {
     "name": "stderr",
     "output_type": "stream",
     "text": [
      "172.20.10.4 - - [26/Nov/2020 13:27:45] \"\u001b[32mPOST /DiaryPost1 HTTP/1.1\u001b[0m\" 307 -\n"
     ]
    },
    {
     "name": "stdout",
     "output_type": "stream",
     "text": [
      "1\n",
      "행복하다\n",
      "사랑\n",
      "2020-12-30\n"
     ]
    },
    {
     "name": "stderr",
     "output_type": "stream",
     "text": [
      "172.20.10.4 - - [26/Nov/2020 13:28:17] \"\u001b[32mPOST /DiaryPost1 HTTP/1.1\u001b[0m\" 307 -\n"
     ]
    },
    {
     "name": "stdout",
     "output_type": "stream",
     "text": [
      "1\n",
      "행복해\n",
      "일기\n",
      "2020-12-31\n"
     ]
    },
    {
     "name": "stderr",
     "output_type": "stream",
     "text": [
      "172.20.10.4 - - [26/Nov/2020 13:29:01] \"\u001b[32mPOST /DiaryPost1 HTTP/1.1\u001b[0m\" 307 -\n"
     ]
    },
    {
     "name": "stdout",
     "output_type": "stream",
     "text": [
      "1\n",
      "오늘은 즐거운 목요일\n",
      "안녕\n",
      "2021-01-01\n"
     ]
    }
   ],
   "source": [
    "#웹 페이지와 연동시키기 위한 플라스크 서버 구축\n",
    "\n",
    "from flask import Flask\n",
    "from flask import request, redirect\n",
    "\n",
    "#app 객체 생성\n",
    "app = Flask(__name__) \n",
    "\n",
    "#사용자가 일기 작성후 확인 누르면 먼저 여기로 들어와서 내용 분석후 자바로 보내서 데이터베이스에 저장\n",
    "@app.route('/DiaryPost1', methods=['GET','POST']) \n",
    "def index():     \n",
    "       #get 방식으로 받으면 args로\n",
    "    if request.method == 'GET':\n",
    "        DI_CONTENTS = request.args['DI_CONTENTS']\n",
    "        DI_TITLE = request.args['DI_TITLE']\n",
    "        DI_DATE = request.args['DI_DATE']\n",
    "        #post 방식으로 받으면 form으로\n",
    "    elif request.method == 'POST':\n",
    "        DI_CONTENTS = request.form['DI_CONTENTS']\n",
    "        DI_TITLE = request.form['DI_TITLE']\n",
    "        DI_DATE = request.form['DI_DATE']\n",
    "        \n",
    "    #값이 잘 넘어오고 분석 잘되는지 print로 테스트해보기\n",
    "    a = best_model_pipe_p.predict([DI_CONTENTS])[0]\n",
    "    print(a)\n",
    "    print(DI_CONTENTS)\n",
    "    print(DI_TITLE)\n",
    "    print(DI_DATE)\n",
    "    #웹페이지 주소와 쿼리스트링 기술로 값 보내주기\n",
    "    url = 'http://localhost:8085/Blooming/DiaryPost?DI_SCORE={}&DI_TITLE={}&DI_DATE={}&DI_CONTENTS={}'.format(best_model_pipe_p.predict([DI_CONTENTS])[0],DI_TITLE,DI_DATE,DI_CONTENTS)\n",
    "    return redirect(url,code=307) #code=307 은 post방식으로 보내주는 상태코드\n",
    "\n",
    "\n",
    "if __name__ == '__main__':\n",
    "    app.run(host='172.20.10.3', port='5000')  #ip주소와 포트번호 "
   ]
  },
  {
   "cell_type": "code",
   "execution_count": null,
   "metadata": {},
   "outputs": [],
   "source": []
  },
  {
   "cell_type": "code",
   "execution_count": null,
   "metadata": {},
   "outputs": [],
   "source": []
  }
 ],
 "metadata": {
  "colab": {
   "name": "테스트_데이터셋.ipynb",
   "provenance": []
  },
  "kernelspec": {
   "display_name": "Python 3",
   "language": "python",
   "name": "python3"
  },
  "language_info": {
   "codemirror_mode": {
    "name": "ipython",
    "version": 3
   },
   "file_extension": ".py",
   "mimetype": "text/x-python",
   "name": "python",
   "nbconvert_exporter": "python",
   "pygments_lexer": "ipython3",
   "version": "3.8.3"
  }
 },
 "nbformat": 4,
 "nbformat_minor": 1
}
